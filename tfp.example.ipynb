{
 "cells": [
  {
   "cell_type": "markdown",
   "id": "5b373039",
   "metadata": {},
   "source": [
    "# Bitcoin Forecast API Example\n",
    "\n",
    "This notebook demonstrates how to use the Bitcoin Forecast API for time series forecasting with TensorFlow Probability.\n",
    "We use synthetic data to show the full workflow: data loading, model fitting, forecasting, and evaluation.\n"
   ]
  },
  {
   "cell_type": "code",
   "execution_count": null,
   "id": "8e781ef4",
   "metadata": {},
   "outputs": [],
   "source": [
    "import numpy as np\n",
    "import matplotlib.pyplot as plt\n",
    "# from tfp_API import BitcoinForecastModel  # Uncomment if using as a package\n",
    "from tfp_API import BitcoinForecastModel  # Assume the class is available in the environment\n"
   ]
  },
  {
   "cell_type": "markdown",
   "id": "4dfa3392",
   "metadata": {},
   "source": [
    "## Sample Configuration and Data\n",
    "\n",
    "We create a minimal configuration and generate synthetic Bitcoin price data for demonstration.\n"
   ]
  },
  {
   "cell_type": "code",
   "execution_count": null,
   "id": "3a0a606c",
   "metadata": {},
   "outputs": [],
   "source": [
    "# Minimal configuration\n",
    "config = {\n",
    "    'model': {\n",
    "        'instant': {\n",
    "            'lookback': 20,\n",
    "            'num_seasons': 4,\n",
    "            'learning_rate': 0.01,\n",
    "            'vi_steps': 50,\n",
    "            'num_samples': 10\n",
    "        }\n",
    "    }\n",
    "}\n",
    "\n",
    "# Generate synthetic Bitcoin price data\n",
    "np.random.seed(42)\n",
    "price_series = np.cumsum(np.random.randn(20) * 50 + 10000)\n",
    "\n",
    "plt.figure(figsize=(10, 4))\n",
    "plt.plot(price_series, marker='o', label='Synthetic BTC Price')\n",
    "plt.title('Synthetic Bitcoin Price Series')\n",
    "plt.xlabel('Time Index')\n",
    "plt.ylabel('Price (USD)')\n",
    "plt.legend()\n",
    "plt.show()\n"
   ]
  },
  {
   "cell_type": "markdown",
   "id": "5a182c78",
   "metadata": {},
   "source": [
    "## Model Initialization and Fitting\n",
    "\n",
    "We initialize the model and fit it to the synthetic data.\n"
   ]
  },
  {
   "cell_type": "code",
   "execution_count": null,
   "id": "b0b80854",
   "metadata": {},
   "outputs": [],
   "source": [
    "model = BitcoinForecastModel(config)\n",
    "model.fit(price_series)\n"
   ]
  },
  {
   "cell_type": "markdown",
   "id": "54dddd42",
   "metadata": {},
   "source": [
    "## Forecasting\n",
    "\n",
    "We generate a 1-step-ahead forecast with confidence intervals.\n"
   ]
  },
  {
   "cell_type": "code",
   "execution_count": null,
   "id": "22a94833",
   "metadata": {},
   "outputs": [],
   "source": [
    "mean, lower, upper = model.forecast(num_steps=1)\n",
    "print(f'Forecast: ${mean:.2f} [${lower:.2f}, ${upper:.2f}]')\n"
   ]
  },
  {
   "cell_type": "markdown",
   "id": "e806f30b",
   "metadata": {},
   "source": [
    "## Evaluation\n",
    "\n",
    "We evaluate the forecast using the last value in the synthetic series as the 'actual' price.\n"
   ]
  },
  {
   "cell_type": "code",
   "execution_count": null,
   "id": "e975daac",
   "metadata": {},
   "outputs": [],
   "source": [
    "actual_price = price_series[-1]\n",
    "metrics = model.evaluate_prediction(actual_price, mean)\n",
    "print('Metrics:', metrics)\n"
   ]
  },
  {
   "cell_type": "markdown",
   "id": "15ed00ab",
   "metadata": {},
   "source": [
    "## Visualization\n",
    "\n",
    "We visualize the synthetic data and the forecast with its confidence interval.\n"
   ]
  },
  {
   "cell_type": "code",
   "execution_count": null,
   "id": "1df3616c",
   "metadata": {},
   "outputs": [],
   "source": [
    "plt.figure(figsize=(10, 4))\n",
    "plt.plot(price_series, marker='o', label='Synthetic BTC Price')\n",
    "plt.axhline(mean, color='orange', linestyle='--', label='Forecast')\n",
    "plt.fill_between([len(price_series)-1, len(price_series)], [lower, lower], [upper, upper], color='orange', alpha=0.2, label='Confidence Interval')\n",
    "plt.title('Forecast and Confidence Interval')\n",
    "plt.xlabel('Time Index')\n",
    "plt.ylabel('Price (USD)')\n",
    "plt.legend()\n",
    "plt.show()\n"
   ]
  }
 ],
 "metadata": {
  "kernelspec": {
   "display_name": "Python 3 (ipykernel)",
   "language": "python",
   "name": "python3"
  },
  "language_info": {
   "codemirror_mode": {
    "name": "ipython",
    "version": 3
   },
   "file_extension": ".py",
   "mimetype": "text/x-python",
   "name": "python",
   "nbconvert_exporter": "python",
   "pygments_lexer": "ipython3",
   "version": "3.12.9"
  }
 },
 "nbformat": 4,
 "nbformat_minor": 5
}
